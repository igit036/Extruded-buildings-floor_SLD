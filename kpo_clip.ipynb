{
  "nbformat": 4,
  "nbformat_minor": 0,
  "metadata": {
    "colab": {
      "provenance": [],
      "authorship_tag": "ABX9TyPC5SW04R3t5aYuRw/CLGF7",
      "include_colab_link": true
    },
    "kernelspec": {
      "name": "python3",
      "display_name": "Python 3"
    },
    "language_info": {
      "name": "python"
    }
  },
  "cells": [
    {
      "cell_type": "markdown",
      "metadata": {
        "id": "view-in-github",
        "colab_type": "text"
      },
      "source": [
        "<a href=\"https://colab.research.google.com/github/igit036/Extruded-buildings-floor_SLD/blob/master/kpo_clip.ipynb\" target=\"_parent\"><img src=\"https://colab.research.google.com/assets/colab-badge.svg\" alt=\"Open In Colab\"/></a>"
      ]
    },
    {
      "cell_type": "code",
      "source": [
        "# Установка библиотеки rasterio\n",
        "!pip install rasterio\n",
        "\n",
        "import requests\n",
        "from PIL import Image\n",
        "from datetime import datetime\n",
        "import rasterio\n",
        "from rasterio.transform import from_origin\n",
        "import numpy as np\n",
        "from io import BytesIO\n",
        "from google.colab import drive\n",
        "\n",
        "# Подключение Google Drive\n",
        "drive.mount('/content/drive')\n",
        "\n",
        "# URL исходного растра\n",
        "url = \"https://meteoinfo.ru/images/vasiliev/plazma_ppo3.gif\"\n",
        "\n",
        "try:\n",
        "    # Загрузка изображения из URL\n",
        "    response = requests.get(url)\n",
        "    img = Image.open(BytesIO(response.content))\n",
        "\n",
        "    # Преобразование изображения в RGB (если оно изначально в палитре)\n",
        "    img = img.convert('RGB')\n",
        "\n",
        "    # Размеры обрезки\n",
        "    crop_width = 1587\n",
        "    crop_height = 756\n",
        "\n",
        "    # Обрезка изображения\n",
        "    cropped_img = img.crop((0, 0, crop_width, crop_height))\n",
        "\n",
        "    # Получение текущей даты для имени файла\n",
        "    current_date = datetime.now().strftime(\"%Y%m%d\")\n",
        "\n",
        "    # Имя выходного файла (включая путь в Google Drive)\n",
        "    # output_filename = f\"/content/drive/MyDrive/plazma_ppo3_{current_date}.tif\"\n",
        "    output_filename = f\"/content/drive/MyDrive/plazma_ppo3.tif\"\n",
        "\n",
        "    # Преобразование изображения в массив numpy\n",
        "    img_array = np.array(cropped_img)\n",
        "\n",
        "    # Сохранение обрезанного изображения в формате TIFF\n",
        "    with rasterio.open(\n",
        "        output_filename,\n",
        "        'w',\n",
        "        driver='GTiff',\n",
        "        height=crop_height,\n",
        "        width=crop_width,\n",
        "        count=3,  # Количество каналов, RGB\n",
        "        dtype=img_array.dtype,\n",
        "        transform=from_origin(0, 0, 1, 1)  # Простая геотрансформация\n",
        "    ) as dst:\n",
        "        # Запись каждого канала по отдельности\n",
        "        for i in range(1, 4):\n",
        "            dst.write(img_array[:, :, i - 1], i)\n",
        "\n",
        "    print(f\"Файл успешно сохранён как {output_filename}\")\n",
        "\n",
        "except Exception as e:\n",
        "    print(f\"Произошла ошибка: {e}\")\n"
      ],
      "metadata": {
        "colab": {
          "base_uri": "https://localhost:8080/"
        },
        "id": "cqhnIakU2PYm",
        "outputId": "c1b0775a-ce12-46e0-ea21-afa3d22cf165"
      },
      "execution_count": 5,
      "outputs": [
        {
          "output_type": "stream",
          "name": "stdout",
          "text": [
            "Collecting rasterio\n",
            "  Downloading rasterio-1.3.10-cp310-cp310-manylinux2014_x86_64.whl (21.5 MB)\n",
            "\u001b[2K     \u001b[90m━━━━━━━━━━━━━━━━━━━━━━━━━━━━━━━━━━━━━━━━\u001b[0m \u001b[32m21.5/21.5 MB\u001b[0m \u001b[31m34.9 MB/s\u001b[0m eta \u001b[36m0:00:00\u001b[0m\n",
            "\u001b[?25hCollecting affine (from rasterio)\n",
            "  Downloading affine-2.4.0-py3-none-any.whl (15 kB)\n",
            "Requirement already satisfied: attrs in /usr/local/lib/python3.10/dist-packages (from rasterio) (23.2.0)\n",
            "Requirement already satisfied: certifi in /usr/local/lib/python3.10/dist-packages (from rasterio) (2024.7.4)\n",
            "Requirement already satisfied: click>=4.0 in /usr/local/lib/python3.10/dist-packages (from rasterio) (8.1.7)\n",
            "Requirement already satisfied: cligj>=0.5 in /usr/local/lib/python3.10/dist-packages (from rasterio) (0.7.2)\n",
            "Requirement already satisfied: numpy in /usr/local/lib/python3.10/dist-packages (from rasterio) (1.25.2)\n",
            "Collecting snuggs>=1.4.1 (from rasterio)\n",
            "  Downloading snuggs-1.4.7-py3-none-any.whl (5.4 kB)\n",
            "Requirement already satisfied: click-plugins in /usr/local/lib/python3.10/dist-packages (from rasterio) (1.1.1)\n",
            "Requirement already satisfied: setuptools in /usr/local/lib/python3.10/dist-packages (from rasterio) (67.7.2)\n",
            "Requirement already satisfied: pyparsing>=2.1.6 in /usr/local/lib/python3.10/dist-packages (from snuggs>=1.4.1->rasterio) (3.1.2)\n",
            "Installing collected packages: snuggs, affine, rasterio\n",
            "Successfully installed affine-2.4.0 rasterio-1.3.10 snuggs-1.4.7\n",
            "Mounted at /content/drive\n",
            "Файл успешно сохранён как /content/drive/MyDrive/plazma_ppo3.tif\n"
          ]
        },
        {
          "output_type": "stream",
          "name": "stderr",
          "text": [
            "/usr/local/lib/python3.10/dist-packages/rasterio/__init__.py:314: NotGeoreferencedWarning: The given matrix is equal to Affine.identity or its flipped counterpart. GDAL may ignore this matrix and save no geotransform without raising an error. This behavior is somewhat driver-specific.\n",
            "  dataset = writer(\n"
          ]
        }
      ]
    }
  ]
}